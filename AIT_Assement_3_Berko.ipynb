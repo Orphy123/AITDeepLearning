{
  "nbformat": 4,
  "nbformat_minor": 0,
  "metadata": {
    "anaconda-cloud": {},
    "kernelspec": {
      "display_name": "Python 3",
      "language": "python",
      "name": "python3"
    },
    "language_info": {
      "codemirror_mode": {
        "name": "ipython",
        "version": 3
      },
      "file_extension": ".py",
      "mimetype": "text/x-python",
      "name": "python",
      "nbconvert_exporter": "python",
      "pygments_lexer": "ipython3",
      "version": "3.6.6"
    },
    "colab": {
      "provenance": [],
      "include_colab_link": true
    },
    "accelerator": "GPU"
  },
  "cells": [
    {
      "cell_type": "markdown",
      "metadata": {
        "id": "view-in-github",
        "colab_type": "text"
      },
      "source": [
        "<a href=\"https://colab.research.google.com/github/Orphy123/AITDeepLearning/blob/main/AIT_Assement_3_Berko.ipynb\" target=\"_parent\"><img src=\"https://colab.research.google.com/assets/colab-badge.svg\" alt=\"Open In Colab\"/></a>"
      ]
    },
    {
      "cell_type": "markdown",
      "metadata": {
        "id": "cW-EyI5Lxpqi"
      },
      "source": [
        "# Copyright\n",
        "\n",
        "<PRE>\n",
        "Copyright (c) 2023 Bálint Gyires-Tóth - All Rights Reserved\n",
        "You may use and modify this code for research and development purpuses.\n",
        "Using this code for educational purposes (self-paced or instructor led) without the permission of the author is prohibited.\n",
        "</PRE>"
      ]
    },
    {
      "cell_type": "markdown",
      "source": [
        "# Example of data exploration, modeling, regulartion and prediction\n",
        "Our exercise today involves loading a standard dataset using TensorFlow Keras API, exploring the data, building a simple neural network, and evaluating the effects of basic methods (activation functions, regularization, weight initialization, etc.). We then perform predictions on the test set and inspect the results. "
      ],
      "metadata": {
        "id": "3EX4cCa4WKJu"
      }
    },
    {
      "cell_type": "markdown",
      "source": [
        "# 1. Data\n",
        "The dataset we will use is the well-known CIFAR10 (Canadian Institute For Advanced Research). Explore the details on the Keras website first: https://keras.io/api/datasets/cifar10/\n",
        "\n",
        "After you explored the basic features of the data, let's load it into the memory and explore the shapes:"
      ],
      "metadata": {
        "id": "yY9fztIeWIKt"
      }
    },
    {
      "cell_type": "markdown",
      "source": [
        "<a target=\"_blank\" href=\"https://colab.research.google.com/github/Orphy123/AITDeepLearning.git\">\n",
        "  <img src=\"https://colab.research.google.com/assets/colab-badge.svg\" alt=\"Open In Colab\"/>\n",
        "</a>\n",
        "\n"
      ],
      "metadata": {
        "id": "D7AfOeGLCYMK"
      }
    },
    {
      "cell_type": "code",
      "source": [
        "from tensorflow.keras.datasets import cifar10\n",
        "from tensorflow.keras.utils import to_categorical\n",
        "import numpy as np"
      ],
      "metadata": {
        "id": "giRZKTjzX_7l"
      },
      "execution_count": 1,
      "outputs": []
    },
    {
      "cell_type": "code",
      "source": [
        "(X_train, Y_train), (X_test, Y_test) = cifar10.load_data()"
      ],
      "metadata": {
        "id": "bez7q0eiWQCK",
        "colab": {
          "base_uri": "https://localhost:8080/"
        },
        "outputId": "aa17014e-d596-4cbc-a277-633054b11d80"
      },
      "execution_count": 2,
      "outputs": [
        {
          "output_type": "stream",
          "name": "stdout",
          "text": [
            "Downloading data from https://www.cs.toronto.edu/~kriz/cifar-10-python.tar.gz\n",
            "170498071/170498071 [==============================] - 14s 0us/step\n"
          ]
        }
      ]
    },
    {
      "cell_type": "code",
      "source": [
        "print(X_train.shape)\n",
        "print(X_test.shape)\n",
        "print(Y_train.shape)\n",
        "print(Y_test.shape)"
      ],
      "metadata": {
        "id": "2tJoRq5wXywi",
        "colab": {
          "base_uri": "https://localhost:8080/"
        },
        "outputId": "3b462640-2c73-4847-8ebe-b139d0ae4dee"
      },
      "execution_count": 3,
      "outputs": [
        {
          "output_type": "stream",
          "name": "stdout",
          "text": [
            "(50000, 32, 32, 3)\n",
            "(10000, 32, 32, 3)\n",
            "(50000, 1)\n",
            "(10000, 1)\n"
          ]
        }
      ]
    },
    {
      "cell_type": "markdown",
      "source": [
        "## 1.1. Exercise \n",
        "Display the first ten images of the training data. Hints:\n",
        "* Axis 0 refers to the separate images, e.g. X_train[0]\n",
        "* You can use the [Matplotlib Pyplot imshow function](https://matplotlib.org/stable/api/_as_gen/matplotlib.pyplot.imshow.html) for displaying the image. Just don't forget to import Plotly first!\n",
        "* A corresponding example, but you have to modify the code for your purpose: https://stackoverflow.com/questions/46615554/how-to-display-multiple-images-in-one-figure-correctly"
      ],
      "metadata": {
        "id": "zTCSGFyDlNvf"
      }
    },
    {
      "cell_type": "code",
      "source": [
        "import matplotlib.pyplot as plt\n",
        "\n",
        "w = 10\n",
        "h = 10\n",
        "fig = plt.figure(figsize=(8, 8))\n",
        "columns = 5\n",
        "rows = 2\n",
        "for i in range(1, columns*rows +1):\n",
        "    img = X_train[i]\n",
        "    fig.add_subplot(rows, columns, i)\n",
        "    plt.imshow(img)\n",
        "plt.show()"
      ],
      "metadata": {
        "id": "hIQhHTppmBdO",
        "colab": {
          "base_uri": "https://localhost:8080/",
          "height": 365
        },
        "outputId": "866252c6-6344-4599-deaf-d790e11e6e8f"
      },
      "execution_count": 4,
      "outputs": [
        {
          "output_type": "display_data",
          "data": {
            "text/plain": [
              "<Figure size 576x576 with 10 Axes>"
            ],
            "image/png": "[encoded data removed]"
          },
          "metadata": {
            "needs_background": "light"
          }
        }
      ]
    },
    {
      "cell_type": "markdown",
      "source": [
        "Print the corresponding labels of the displayed images from the target variable (Y_train):"
      ],
      "metadata": {
        "id": "FAQkUWlmm-bc"
      }
    },
    {
      "cell_type": "code",
      "source": [
        "for i in range(1,11,1):\n",
        "\n",
        "  print(Y_train[i])"
      ],
      "metadata": {
        "id": "AkOrWzghnJ78",
        "colab": {
          "base_uri": "https://localhost:8080/"
        },
        "outputId": "69b22504-6e01-4530-f3ce-e261d776800c"
      },
      "execution_count": 5,
      "outputs": [
        {
          "output_type": "stream",
          "name": "stdout",
          "text": [
            "[9]\n",
            "[9]\n",
            "[4]\n",
            "[1]\n",
            "[1]\n",
            "[2]\n",
            "[7]\n",
            "[8]\n",
            "[3]\n",
            "[4]\n"
          ]
        }
      ]
    },
    {
      "cell_type": "markdown",
      "source": [
        "## 1.2. Exercise\n",
        "We will train a Multi-Layer Perceptron (MLP), which requires a 2 dimensional input: 0th axis refers to the datapoints (i.e. images), the 1th dimens to the input. As images are 3 dimensional (width, height, color channels), you have to reshape the images into vectors. We also call this flattening. \n",
        "\n",
        "In order to do so, calculate the size of the equivalent 1D vector of the image:"
      ],
      "metadata": {
        "id": "VX24g5FstsRU"
      }
    },
    {
      "cell_type": "code",
      "source": [
        "flattened_dim = 32 * 32 * 3 "
      ],
      "metadata": {
        "id": "hdoMyxHzuXZG"
      },
      "execution_count": 6,
      "outputs": []
    },
    {
      "cell_type": "markdown",
      "source": [
        "After you calculated it, we can reshape the images, and covert the integer arrays into float arrays -- which are needed for the neural networks as input. Hint:\n",
        "* in the [reshape() function of Numpy](https://www.w3schools.com/python/numpy/numpy_array_reshape.asp) you can use -1 for one axis, to automatically calculate that value."
      ],
      "metadata": {
        "id": "WbqXJUSFubeC"
      }
    },
    {
      "cell_type": "code",
      "source": [
        "# reshape 3D tensors to 2D tensors\n",
        "X_train = X_train.reshape(X_train.shape[0],flattened_dim)\n",
        "X_test = X_test.reshape(X_test.shape[0],flattened_dim)\n",
        "\n",
        "# it is in int8 format, the neural network requires float32\n",
        "X_train = X_train.astype('float32')\n",
        "X_test = X_test.astype('float32')"
      ],
      "metadata": {
        "id": "vukOcBM0XzSj"
      },
      "execution_count": 7,
      "outputs": []
    },
    {
      "cell_type": "markdown",
      "source": [
        "## 1.3. Exercise\n",
        "As the next step, let's split the training data into training and validation data. 80% of the original training data should be the final training data, and 20% the validation.\n",
        "You should use Numpy indexing to select the first 80% of X_train as final X_train, and the last 20% as X_valid. Hints: \n",
        "* https://datascienceparichay.com/article/numpy-array-first-n-rows/\n",
        "* https://datascienceparichay.com/article/numpy-array-last-n-rows/"
      ],
      "metadata": {
        "id": "DO79AdIdvVfD"
      }
    },
    {
      "cell_type": "code",
      "source": [
        "train_ratio  = 0.8\n",
        "train_length = int(train_ratio * X_train.shape[0]) # length of the training data\n",
        "train_split  = train_length# where to split the training and validation data\n",
        "X_valid, Y_valid = X_train[:train_split], Y_train[:train_split]\n",
        "X_train, Y_train = X_train[train_split:], Y_train[train_split:]"
      ],
      "metadata": {
        "id": "mRwuWxxIxLgN"
      },
      "execution_count": 8,
      "outputs": []
    },
    {
      "cell_type": "markdown",
      "source": [
        "## 1.4. Exercise\n",
        "As the last step of input data preparation, the data should be standardized. Calculate the mean and variance of the training data (elementvise -- so for each value of the flattened image you should get a mean and variance for the training data along 0th axis). Hint: \n",
        "* https://stackoverflow.com/questions/70626231/how-to-calculate-mean-variance-standard-deviation-per-index-of-array"
      ],
      "metadata": {
        "id": "z05y_QWDxWER"
      }
    },
    {
      "cell_type": "code",
      "source": [
        "mean = np.mean(X_train, axis=0)\n",
        "std = np.std(X_train, axis=0)"
      ],
      "metadata": {
        "id": "TSZbvWCBx8Ea"
      },
      "execution_count": 9,
      "outputs": []
    },
    {
      "cell_type": "markdown",
      "source": [
        "Next, use the resulting values to standardize the training, validation and test data by substracting the mean and dividing the result with the standard deviation."
      ],
      "metadata": {
        "id": "6WRHKkkjyN1S"
      }
    },
    {
      "cell_type": "code",
      "source": [
        "X_train = (X_train - mean) / std\n",
        "X_valid = (X_valid - mean) / std\n",
        "X_test = (X_test - mean) / std"
      ],
      "metadata": {
        "id": "2ESLP1EIyB2J"
      },
      "execution_count": 10,
      "outputs": []
    },
    {
      "cell_type": "markdown",
      "source": [
        "## 1.5. Exercise\n",
        "And as the last step, convert the dense representation of the classes (i.e. 0,1,2,3...9) to one-hot encoding (0 = [1 0 0 0 0 0 0 0 0 0], 1 = [0 1 0 0 0 0 0 0 0 0] ... 9 = [0 0 0 0 0 0 0 0 0 1]). To do this, first, calculate the number of unique elements in the target training data. Hints:\n",
        "* use the [unique() function](https://numpy.org/doc/stable/reference/generated/numpy.unique.html) of Numpy to list the unique elements\n",
        "* you can count the number of elements in a list with the [len() function](https://www.w3schools.com/python/ref_func_len.asp)"
      ],
      "metadata": {
        "id": "ooHCnUin7r4o"
      }
    },
    {
      "cell_type": "code",
      "source": [
        "nb_classes = len(np.unique(Y_train))"
      ],
      "metadata": {
        "id": "i0LAO9cs8KEE"
      },
      "execution_count": 11,
      "outputs": []
    },
    {
      "cell_type": "markdown",
      "source": [],
      "metadata": {
        "id": "0S-7z55v-hU8"
      }
    },
    {
      "cell_type": "markdown",
      "source": [
        "Doublecheck, if the same number of classes exists in the validation and test target data:"
      ],
      "metadata": {
        "id": "BvM6XhGe8JU9"
      }
    },
    {
      "cell_type": "code",
      "source": [
        "print(\"Validation data has the same number of classes, as the training data:\", nb_classes == len(np.unique(Y_valid)))\n",
        "print(\"Test data has the same number of classes, as the training data:\", nb_classes == len(np.unique(Y_test)))"
      ],
      "metadata": {
        "id": "eZFNSsyx_Py2",
        "colab": {
          "base_uri": "https://localhost:8080/"
        },
        "outputId": "6b413ed4-d8ec-4b3b-9897-f2103ac124d7"
      },
      "execution_count": 12,
      "outputs": [
        {
          "output_type": "stream",
          "name": "stdout",
          "text": [
            "Validation data has the same number of classes, as the training data: True\n",
            "Test data has the same number of classes, as the training data: True\n"
          ]
        }
      ]
    },
    {
      "cell_type": "markdown",
      "source": [
        "And convert the dense representation into one-hot encoding. Hint:\n",
        "* use the [to_categorical function](https://www.tensorflow.org/api_docs/python/tf/keras/utils/to_categorical) with the calculated nb_classes\n"
      ],
      "metadata": {
        "id": "mJM-iBmR8dLe"
      }
    },
    {
      "cell_type": "code",
      "source": [
        "Y_train = to_categorical(Y_train, nb_classes)\n",
        "Y_valid = to_categorical(Y_valid, nb_classes)\n",
        "Y_test = to_categorical(Y_test, nb_classes)"
      ],
      "metadata": {
        "id": "xwZ4OJ6I8lba"
      },
      "execution_count": 13,
      "outputs": []
    },
    {
      "cell_type": "markdown",
      "source": [
        "## Final check of data preparation\n",
        "Now, lets check the shapes and mean and standard deviation of the training, validation and test data."
      ],
      "metadata": {
        "id": "LshN2OSsv3TZ"
      }
    },
    {
      "cell_type": "code",
      "source": [
        "print(\"Shapes of the training, validation and test input data:\", X_train.shape, X_valid.shape, X_test.shape)\n",
        "print(\"Shapes of the training, validation and test output data:\", Y_train.shape, Y_valid.shape, Y_test.shape)\n",
        "print(\"Mean values of the training, validation and test input data:\", X_train.mean(), X_valid.mean(), X_test.mean())\n",
        "print(\"Standard deviation of the training, validation and test input data:\", X_train.std(), X_valid.std(), X_test.std())"
      ],
      "metadata": {
        "id": "O_jdJVcvX0vi",
        "colab": {
          "base_uri": "https://localhost:8080/"
        },
        "outputId": "9c112bb1-36a1-49c7-d0ee-fc6159fb001f"
      },
      "execution_count": 14,
      "outputs": [
        {
          "output_type": "stream",
          "name": "stdout",
          "text": [
            "Shapes of the training, validation and test input data: (10000, 3072) (40000, 3072) (10000, 3072)\n",
            "Shapes of the training, validation and test output data: (10000, 10) (40000, 10) (10000, 10)\n",
            "Mean values of the training, validation and test input data: -8.1857043e-10 -0.002343263 0.011031568\n",
            "Standard deviation of the training, validation and test input data: 1.0000011 1.0036033 1.0013864\n"
          ]
        }
      ]
    },
    {
      "cell_type": "markdown",
      "source": [
        "Don't worry, if the mean and standard deviation of the validation and test data are not exactly 0 and 1, but these might be very mear to it (e.g. 0.01 mean, 0.99 variance)."
      ],
      "metadata": {
        "id": "5GtAOOoezmZY"
      }
    },
    {
      "cell_type": "markdown",
      "metadata": {
        "id": "cJ14oyZExpqj"
      },
      "source": [
        "# 2. Training "
      ]
    },
    {
      "cell_type": "markdown",
      "metadata": {
        "id": "s4ZXYRMBxpql"
      },
      "source": [
        "Let us begin with a simple example of creating a small neural network without regularization and training it with actual data. The purpose of this is to provide you with an example as to how to proceed with the next exercise. "
      ]
    },
    {
      "cell_type": "code",
      "source": [
        "# imports \n",
        "import numpy as np\n",
        "import matplotlib.pyplot as plt\n",
        "from tensorflow.keras.models import Sequential\n",
        "from tensorflow.keras.layers import Dense, Embedding, Flatten, Dropout\n",
        "from tensorflow.keras.initializers import HeNormal\n",
        "from tensorflow.keras.callbacks import EarlyStopping"
      ],
      "metadata": {
        "id": "6-8Q6ll7ZDgq"
      },
      "execution_count": 15,
      "outputs": []
    },
    {
      "cell_type": "code",
      "source": [
        "# model definition\n",
        "model = Sequential()\n",
        "model.add(Dense(128, activation='tanh', input_shape=(flattened_dim,), kernel_initializer=HeNormal()))\n",
        "model.add(Dense(128, activation='tanh', kernel_initializer=HeNormal()))\n",
        "model.add(Dense(nb_classes, activation='softmax'))\n",
        "\n",
        "# loss function and optimizer\n",
        "model.compile(loss='categorical_crossentropy', optimizer='adam', metrics=['accuracy'])"
      ],
      "metadata": {
        "id": "pke6w3CD8DHp"
      },
      "execution_count": 16,
      "outputs": []
    },
    {
      "cell_type": "code",
      "metadata": {
        "id": "CZbOR76QxprC",
        "colab": {
          "base_uri": "https://localhost:8080/"
        },
        "outputId": "e1cf309e-06df-4945-b9cd-ab4ae3abc888"
      },
      "source": [
        "# training\n",
        "network_history =model.fit(X_train, Y_train, \n",
        "                    validation_data=(X_valid, Y_valid),\n",
        "                    batch_size=128,                             \n",
        "                    epochs=40, \n",
        "                    verbose=1,\n",
        "                    callbacks=[EarlyStopping(patience=5)])"
      ],
      "execution_count": 17,
      "outputs": [
        {
          "output_type": "stream",
          "name": "stdout",
          "text": [
            "Epoch 1/40\n",
            "79/79 [==============================] - 7s 25ms/step - loss: 1.9718 - accuracy: 0.3176 - val_loss: 1.8573 - val_accuracy: 0.3504\n",
            "Epoch 2/40\n",
            "79/79 [==============================] - 1s 13ms/step - loss: 1.7426 - accuracy: 0.3974 - val_loss: 1.8145 - val_accuracy: 0.3663\n",
            "Epoch 3/40\n",
            "79/79 [==============================] - 1s 13ms/step - loss: 1.6578 - accuracy: 0.4358 - val_loss: 1.8083 - val_accuracy: 0.3674\n",
            "Epoch 4/40\n",
            "79/79 [==============================] - 1s 13ms/step - loss: 1.5661 - accuracy: 0.4647 - val_loss: 1.7854 - val_accuracy: 0.3835\n",
            "Epoch 5/40\n",
            "79/79 [==============================] - 1s 13ms/step - loss: 1.4961 - accuracy: 0.4959 - val_loss: 1.7942 - val_accuracy: 0.3789\n",
            "Epoch 6/40\n",
            "79/79 [==============================] - 2s 20ms/step - loss: 1.4397 - accuracy: 0.5151 - val_loss: 1.8152 - val_accuracy: 0.3747\n",
            "Epoch 7/40\n",
            "79/79 [==============================] - 2s 21ms/step - loss: 1.3735 - accuracy: 0.5398 - val_loss: 1.8385 - val_accuracy: 0.3756\n",
            "Epoch 8/40\n",
            "79/79 [==============================] - 1s 13ms/step - loss: 1.3214 - accuracy: 0.5573 - val_loss: 1.8256 - val_accuracy: 0.3883\n",
            "Epoch 9/40\n",
            "79/79 [==============================] - 2s 20ms/step - loss: 1.2696 - accuracy: 0.5781 - val_loss: 1.8500 - val_accuracy: 0.3792\n"
          ]
        }
      ]
    },
    {
      "cell_type": "markdown",
      "metadata": {
        "id": "uFqhzV85xprJ"
      },
      "source": [
        "Let's plot the training and validation loss and accuracy curves:"
      ]
    },
    {
      "cell_type": "code",
      "metadata": {
        "id": "BYmXGkLCxprK",
        "colab": {
          "base_uri": "https://localhost:8080/",
          "height": 543
        },
        "outputId": "0882c559-858e-4b6a-8981-b3b95a608193"
      },
      "source": [
        "def plot_history(network_history):\n",
        "    plt.figure()\n",
        "    plt.xlabel('Epochs')\n",
        "    plt.ylabel('Loss')\n",
        "    plt.plot(network_history.history['loss'])\n",
        "    plt.plot(network_history.history['val_loss'])\n",
        "    plt.legend(['Training', 'Validation'])\n",
        "\n",
        "    plt.figure()\n",
        "    plt.xlabel('Epochs')\n",
        "    plt.ylabel('Accuracy')\n",
        "    plt.plot(network_history.history['accuracy'])\n",
        "    plt.plot(network_history.history['val_accuracy'])\n",
        "    plt.legend(['Training', 'Validation'], loc='lower right')\n",
        "    plt.show()\n",
        "\n",
        "plot_history(network_history)"
      ],
      "execution_count": 18,
      "outputs": [
        {
          "output_type": "display_data",
          "data": {
            "text/plain": [
              "<Figure size 432x288 with 1 Axes>"
            ],
            "image/png": "[encoded data removed]"
          },
          "metadata": {
            "needs_background": "light"
          }
        },
        {
          "output_type": "display_data",
          "data": {
            "text/plain": [
              "<Figure size 432x288 with 1 Axes>"
            ],
            "image/png": "[encoded data removed]"
          },
          "metadata": {
            "needs_background": "light"
          }
        }
      ]
    },
    {
      "cell_type": "markdown",
      "source": [
        "What do you think? Does it overfit? "
      ],
      "metadata": {
        "id": "tgG7QeXF-dx6"
      }
    },
    {
      "cell_type": "markdown",
      "metadata": {
        "id": "_Q9rIeBBxprO"
      },
      "source": [
        "# Inspecting the model"
      ]
    },
    {
      "cell_type": "code",
      "metadata": {
        "id": "6r2AmmoMxprP",
        "colab": {
          "base_uri": "https://localhost:8080/"
        },
        "outputId": "8cdc3a14-bec2-4459-b9ad-aaea391ce62b"
      },
      "source": [
        "model.summary()"
      ],
      "execution_count": 19,
      "outputs": [
        {
          "output_type": "stream",
          "name": "stdout",
          "text": [
            "Model: \"sequential\"\n",
            "_________________________________________________________________\n",
            " Layer (type)                Output Shape              Param #   \n",
            "=================================================================\n",
            " dense (Dense)               (None, 128)               393344    \n",
            "                                                                 \n",
            " dense_1 (Dense)             (None, 128)               16512     \n",
            "                                                                 \n",
            " dense_2 (Dense)             (None, 10)                1290      \n",
            "                                                                 \n",
            "=================================================================\n",
            "Total params: 411,146\n",
            "Trainable params: 411,146\n",
            "Non-trainable params: 0\n",
            "_________________________________________________________________\n"
          ]
        }
      ]
    },
    {
      "cell_type": "code",
      "metadata": {
        "id": "D3-bVDVuxprS",
        "colab": {
          "base_uri": "https://localhost:8080/"
        },
        "outputId": "5c77bb92-4481-411a-ecf0-ada667a28659"
      },
      "source": [
        "print('Input: ', model.input)"
      ],
      "execution_count": 20,
      "outputs": [
        {
          "output_type": "stream",
          "name": "stdout",
          "text": [
            "Input:  KerasTensor(type_spec=TensorSpec(shape=(None, 3072), dtype=tf.float32, name='dense_input'), name='dense_input', description=\"created by layer 'dense_input'\")\n"
          ]
        }
      ]
    },
    {
      "cell_type": "code",
      "metadata": {
        "id": "Da2OJ3DmxprX",
        "colab": {
          "base_uri": "https://localhost:8080/"
        },
        "outputId": "f49dd9ff-5da5-40b6-e4a2-2bf8973c8b63"
      },
      "source": [
        "print('Layers:\\n')\n",
        "for layer in model.layers:\n",
        "    print(\"Layer's name: \", layer.name, ', trainable: ', layer.trainable)\n",
        "    print(layer.get_config(),'\\n')"
      ],
      "execution_count": 21,
      "outputs": [
        {
          "output_type": "stream",
          "name": "stdout",
          "text": [
            "Layers:\n",
            "\n",
            "Layer's name:  dense , trainable:  True\n",
            "{'name': 'dense', 'trainable': True, 'dtype': 'float32', 'batch_input_shape': (None, 3072), 'units': 128, 'activation': 'tanh', 'use_bias': True, 'kernel_initializer': {'class_name': 'HeNormal', 'config': {'seed': None}}, 'bias_initializer': {'class_name': 'Zeros', 'config': {}}, 'kernel_regularizer': None, 'bias_regularizer': None, 'activity_regularizer': None, 'kernel_constraint': None, 'bias_constraint': None} \n",
            "\n",
            "Layer's name:  dense_1 , trainable:  True\n",
            "{'name': 'dense_1', 'trainable': True, 'dtype': 'float32', 'units': 128, 'activation': 'tanh', 'use_bias': True, 'kernel_initializer': {'class_name': 'HeNormal', 'config': {'seed': None}}, 'bias_initializer': {'class_name': 'Zeros', 'config': {}}, 'kernel_regularizer': None, 'bias_regularizer': None, 'activity_regularizer': None, 'kernel_constraint': None, 'bias_constraint': None} \n",
            "\n",
            "Layer's name:  dense_2 , trainable:  True\n",
            "{'name': 'dense_2', 'trainable': True, 'dtype': 'float32', 'units': 10, 'activation': 'softmax', 'use_bias': True, 'kernel_initializer': {'class_name': 'GlorotUniform', 'config': {'seed': None}}, 'bias_initializer': {'class_name': 'Zeros', 'config': {}}, 'kernel_regularizer': None, 'bias_regularizer': None, 'activity_regularizer': None, 'kernel_constraint': None, 'bias_constraint': None} \n",
            "\n"
          ]
        }
      ]
    },
    {
      "cell_type": "code",
      "metadata": {
        "id": "AtVX3M3lxprc",
        "colab": {
          "base_uri": "https://localhost:8080/"
        },
        "outputId": "02170dc5-555e-4f86-d1ce-eb29d876b441"
      },
      "source": [
        "print('Output: ', model.output)"
      ],
      "execution_count": 22,
      "outputs": [
        {
          "output_type": "stream",
          "name": "stdout",
          "text": [
            "Output:  KerasTensor(type_spec=TensorSpec(shape=(None, 10), dtype=tf.float32, name=None), name='dense_2/Softmax:0', description=\"created by layer 'dense_2'\")\n"
          ]
        }
      ]
    },
    {
      "cell_type": "markdown",
      "source": [
        "## 2.1. Exercise\n",
        "Introduce [early stopping](https://www.tensorflow.org/api_docs/python/tf/keras/callbacks/EarlyStopping) and [dropout](https://www.tensorflow.org/api_docs/python/tf/keras/layers/Dropout) with a rate between 0.1..0.5. Tips:\n",
        "\n",
        "* Insert the dropout layer between the two Dense layers. \n",
        "* Set the patience of early stopping to 5.\n",
        "* Set the number of epochs to a very high number.\n",
        "* Don't forget to restore best weights after early stopping. \n",
        "* And also set early stopping to monitor validation accuracy (the default value is validation loss -- which is categorical crossentropy now).\n",
        "\n",
        "Compile and train the model. Attempt to increase the validation accuracy as much as possible by making changes to the dropout rate. Inspect the effects of the modifications."
      ],
      "metadata": {
        "id": "E-hHfs9qA_iO"
      }
    },
    {
      "cell_type": "code",
      "source": [
        "es = EarlyStopping(monitor='val_accuracy', patience=5, restore_best_weights=True)"
      ],
      "metadata": {
        "id": "NwXrPzOgEBG-"
      },
      "execution_count": 23,
      "outputs": []
    },
    {
      "cell_type": "code",
      "source": [
        "# model definition with dropout\n",
        "model = Sequential()\n",
        "model.add(Dense(128, activation='tanh', input_shape=(flattened_dim,)))\n",
        "model.add(Dropout(rate=0.2))\n",
        "model.add(Dense(128, activation='tanh'))\n",
        "model.add(Dense(nb_classes, activation='softmax'))\n",
        "\n",
        "# loss function and optimizer\n",
        "model.compile(loss='categorical_crossentropy', optimizer='adam', metrics=['accuracy'])"
      ],
      "metadata": {
        "id": "7hZEGzj8GFwP"
      },
      "execution_count": 24,
      "outputs": []
    },
    {
      "cell_type": "code",
      "source": [
        "# training with early stopping\n",
        "network_history = model.fit(X_train, Y_train, \n",
        "                            validation_data=(X_valid,Y_valid),\n",
        "                            batch_size=128,                             \n",
        "                            epochs=50, \n",
        "                            verbose=1, \n",
        "                            callbacks=[es])"
      ],
      "metadata": {
        "id": "GCG54R-vGGWj",
        "colab": {
          "base_uri": "https://localhost:8080/"
        },
        "outputId": "ed0722ad-9eff-4a5c-ad28-759b5a0df986"
      },
      "execution_count": 25,
      "outputs": [
        {
          "output_type": "stream",
          "name": "stdout",
          "text": [
            "Epoch 1/50\n",
            "79/79 [==============================] - 3s 31ms/step - loss: 1.9987 - accuracy: 0.2953 - val_loss: 1.8433 - val_accuracy: 0.3516\n",
            "Epoch 2/50\n",
            "79/79 [==============================] - 2s 21ms/step - loss: 1.8052 - accuracy: 0.3708 - val_loss: 1.7995 - val_accuracy: 0.3699\n",
            "Epoch 3/50\n",
            "79/79 [==============================] - 2s 20ms/step - loss: 1.7362 - accuracy: 0.3941 - val_loss: 1.7864 - val_accuracy: 0.3784\n",
            "Epoch 4/50\n",
            "79/79 [==============================] - 1s 13ms/step - loss: 1.6941 - accuracy: 0.4125 - val_loss: 1.7627 - val_accuracy: 0.3875\n",
            "Epoch 5/50\n",
            "79/79 [==============================] - 1s 13ms/step - loss: 1.6538 - accuracy: 0.4320 - val_loss: 1.7638 - val_accuracy: 0.3857\n",
            "Epoch 6/50\n",
            "79/79 [==============================] - 1s 13ms/step - loss: 1.6194 - accuracy: 0.4388 - val_loss: 1.7459 - val_accuracy: 0.3981\n",
            "Epoch 7/50\n",
            "79/79 [==============================] - 1s 16ms/step - loss: 1.5787 - accuracy: 0.4580 - val_loss: 1.7451 - val_accuracy: 0.3939\n",
            "Epoch 8/50\n",
            "79/79 [==============================] - 2s 24ms/step - loss: 1.5455 - accuracy: 0.4676 - val_loss: 1.7635 - val_accuracy: 0.3933\n",
            "Epoch 9/50\n",
            "79/79 [==============================] - 1s 14ms/step - loss: 1.5098 - accuracy: 0.4851 - val_loss: 1.7495 - val_accuracy: 0.3934\n",
            "Epoch 10/50\n",
            "79/79 [==============================] - 1s 18ms/step - loss: 1.4800 - accuracy: 0.4895 - val_loss: 1.7502 - val_accuracy: 0.3967\n",
            "Epoch 11/50\n",
            "79/79 [==============================] - 1s 15ms/step - loss: 1.4537 - accuracy: 0.4968 - val_loss: 1.7598 - val_accuracy: 0.3980\n"
          ]
        }
      ]
    },
    {
      "cell_type": "markdown",
      "source": [
        "## 2.2 Exercise\n",
        "Change the [activation function of the dense layers (except the last one)](https://www.tensorflow.org/api_docs/python/tf/keras/layers/Dense) to rectified linear unit (ReLU) and the [weight initialization](https://www.tensorflow.org/api_docs/python/tf/keras/initializers) to the theoretically best one. Use the original model's code.\n",
        "\n",
        "Compile and train the model. Inspect the effects of the modifications."
      ],
      "metadata": {
        "id": "zQCDM1o1BBtF"
      }
    },
    {
      "cell_type": "code",
      "source": [
        "# model definition with relu and he_normal\n",
        "model = Sequential()\n",
        "model.add(Dense(128, activation='relu', kernel_initializer='he_normal', input_shape=(flattened_dim,)))\n",
        "model.add(Dense(128, activation='relu', kernel_initializer='he_normal'))\n",
        "model.add(Dense(nb_classes, activation='softmax'))\n",
        "\n",
        "# loss function and optimizer\n",
        "model.compile(loss='categorical_crossentropy', optimizer='adam', metrics=['accuracy'])\n"
      ],
      "metadata": {
        "id": "YjHAAh-wGu9O"
      },
      "execution_count": 26,
      "outputs": []
    },
    {
      "cell_type": "code",
      "source": [
        "# training\n",
        "network_history = model.fit(X_train, Y_train, \n",
        "                            validation_data=(X_valid,Y_valid),\n",
        "                            batch_size=128,                             \n",
        "                            epochs=100, \n",
        "                            verbose=1\n",
        "                            )"
      ],
      "metadata": {
        "id": "rarwKM1wGxMz",
        "colab": {
          "base_uri": "https://localhost:8080/"
        },
        "outputId": "93627fd6-2911-49ab-8c37-6ee38a7f28e6"
      },
      "execution_count": 27,
      "outputs": [
        {
          "output_type": "stream",
          "name": "stdout",
          "text": [
            "Epoch 1/100\n",
            "79/79 [==============================] - 3s 24ms/step - loss: 2.1139 - accuracy: 0.3094 - val_loss: 1.9575 - val_accuracy: 0.3476\n",
            "Epoch 2/100\n",
            "79/79 [==============================] - 2s 20ms/step - loss: 1.6835 - accuracy: 0.4240 - val_loss: 1.8235 - val_accuracy: 0.3802\n",
            "Epoch 3/100\n",
            "79/79 [==============================] - 1s 16ms/step - loss: 1.4850 - accuracy: 0.4924 - val_loss: 1.7849 - val_accuracy: 0.4036\n",
            "Epoch 4/100\n",
            "79/79 [==============================] - 2s 22ms/step - loss: 1.3332 - accuracy: 0.5452 - val_loss: 1.7931 - val_accuracy: 0.4098\n",
            "Epoch 5/100\n",
            "79/79 [==============================] - 1s 13ms/step - loss: 1.2150 - accuracy: 0.5911 - val_loss: 1.8387 - val_accuracy: 0.4096\n",
            "Epoch 6/100\n",
            "79/79 [==============================] - 1s 13ms/step - loss: 1.1232 - accuracy: 0.6126 - val_loss: 1.8882 - val_accuracy: 0.4143\n",
            "Epoch 7/100\n",
            "79/79 [==============================] - 1s 13ms/step - loss: 0.9997 - accuracy: 0.6578 - val_loss: 1.8573 - val_accuracy: 0.4212\n",
            "Epoch 8/100\n",
            "79/79 [==============================] - 1s 13ms/step - loss: 0.9034 - accuracy: 0.6924 - val_loss: 1.9338 - val_accuracy: 0.4243\n",
            "Epoch 9/100\n",
            "79/79 [==============================] - 2s 20ms/step - loss: 0.8323 - accuracy: 0.7203 - val_loss: 2.0130 - val_accuracy: 0.4117\n",
            "Epoch 10/100\n",
            "79/79 [==============================] - 2s 20ms/step - loss: 0.7487 - accuracy: 0.7495 - val_loss: 2.0439 - val_accuracy: 0.4196\n",
            "Epoch 11/100\n",
            "79/79 [==============================] - 2s 20ms/step - loss: 0.6903 - accuracy: 0.7740 - val_loss: 2.0947 - val_accuracy: 0.4189\n",
            "Epoch 12/100\n",
            "79/79 [==============================] - 2s 20ms/step - loss: 0.6097 - accuracy: 0.8020 - val_loss: 2.2443 - val_accuracy: 0.4173\n",
            "Epoch 13/100\n",
            "79/79 [==============================] - 1s 17ms/step - loss: 0.5869 - accuracy: 0.8071 - val_loss: 2.2730 - val_accuracy: 0.4154\n",
            "Epoch 14/100\n",
            "79/79 [==============================] - 1s 13ms/step - loss: 0.4898 - accuracy: 0.8415 - val_loss: 2.3945 - val_accuracy: 0.4088\n",
            "Epoch 15/100\n",
            "79/79 [==============================] - 2s 20ms/step - loss: 0.4583 - accuracy: 0.8557 - val_loss: 2.4094 - val_accuracy: 0.4201\n",
            "Epoch 16/100\n",
            "79/79 [==============================] - 1s 13ms/step - loss: 0.3980 - accuracy: 0.8742 - val_loss: 2.4906 - val_accuracy: 0.4176\n",
            "Epoch 17/100\n",
            "79/79 [==============================] - 1s 13ms/step - loss: 0.3545 - accuracy: 0.8908 - val_loss: 2.6317 - val_accuracy: 0.4149\n",
            "Epoch 18/100\n",
            "79/79 [==============================] - 1s 13ms/step - loss: 0.3469 - accuracy: 0.8869 - val_loss: 2.6736 - val_accuracy: 0.4159\n",
            "Epoch 19/100\n",
            "79/79 [==============================] - 1s 13ms/step - loss: 0.2554 - accuracy: 0.9300 - val_loss: 2.8251 - val_accuracy: 0.4116\n",
            "Epoch 20/100\n",
            "79/79 [==============================] - 2s 20ms/step - loss: 0.2304 - accuracy: 0.9373 - val_loss: 2.8454 - val_accuracy: 0.4206\n",
            "Epoch 21/100\n",
            "79/79 [==============================] - 2s 20ms/step - loss: 0.1994 - accuracy: 0.9465 - val_loss: 2.9469 - val_accuracy: 0.4128\n",
            "Epoch 22/100\n",
            "79/79 [==============================] - 2s 22ms/step - loss: 0.2253 - accuracy: 0.9333 - val_loss: 3.0798 - val_accuracy: 0.4089\n",
            "Epoch 23/100\n",
            "79/79 [==============================] - 2s 21ms/step - loss: 0.2584 - accuracy: 0.9196 - val_loss: 3.0750 - val_accuracy: 0.4175\n",
            "Epoch 24/100\n",
            "79/79 [==============================] - 1s 13ms/step - loss: 0.1934 - accuracy: 0.9445 - val_loss: 3.1650 - val_accuracy: 0.4145\n",
            "Epoch 25/100\n",
            "79/79 [==============================] - 1s 13ms/step - loss: 0.1336 - accuracy: 0.9670 - val_loss: 3.2240 - val_accuracy: 0.4199\n",
            "Epoch 26/100\n",
            "79/79 [==============================] - 2s 20ms/step - loss: 0.1021 - accuracy: 0.9762 - val_loss: 3.3855 - val_accuracy: 0.4179\n",
            "Epoch 27/100\n",
            "79/79 [==============================] - 2s 20ms/step - loss: 0.1350 - accuracy: 0.9637 - val_loss: 3.4255 - val_accuracy: 0.4142\n",
            "Epoch 28/100\n",
            "79/79 [==============================] - 1s 13ms/step - loss: 0.0984 - accuracy: 0.9773 - val_loss: 3.4926 - val_accuracy: 0.4157\n",
            "Epoch 29/100\n",
            "79/79 [==============================] - 1s 13ms/step - loss: 0.0960 - accuracy: 0.9758 - val_loss: 3.5948 - val_accuracy: 0.4149\n",
            "Epoch 30/100\n",
            "79/79 [==============================] - 2s 20ms/step - loss: 0.0799 - accuracy: 0.9814 - val_loss: 3.6728 - val_accuracy: 0.4110\n",
            "Epoch 31/100\n",
            "79/79 [==============================] - 1s 18ms/step - loss: 0.1028 - accuracy: 0.9724 - val_loss: 3.7507 - val_accuracy: 0.4141\n",
            "Epoch 32/100\n",
            "79/79 [==============================] - 2s 22ms/step - loss: 0.1072 - accuracy: 0.9695 - val_loss: 3.9010 - val_accuracy: 0.4126\n",
            "Epoch 33/100\n",
            "79/79 [==============================] - 1s 13ms/step - loss: 0.1390 - accuracy: 0.9569 - val_loss: 3.9382 - val_accuracy: 0.4071\n",
            "Epoch 34/100\n",
            "79/79 [==============================] - 1s 13ms/step - loss: 0.1675 - accuracy: 0.9457 - val_loss: 4.0548 - val_accuracy: 0.4035\n",
            "Epoch 35/100\n",
            "79/79 [==============================] - 1s 13ms/step - loss: 0.1903 - accuracy: 0.9365 - val_loss: 4.2119 - val_accuracy: 0.4044\n",
            "Epoch 36/100\n",
            "79/79 [==============================] - 1s 13ms/step - loss: 0.2101 - accuracy: 0.9314 - val_loss: 4.1892 - val_accuracy: 0.4093\n",
            "Epoch 37/100\n",
            "79/79 [==============================] - 1s 13ms/step - loss: 0.1328 - accuracy: 0.9558 - val_loss: 4.3253 - val_accuracy: 0.3963\n",
            "Epoch 38/100\n",
            "79/79 [==============================] - 2s 20ms/step - loss: 0.1319 - accuracy: 0.9584 - val_loss: 4.3269 - val_accuracy: 0.4096\n",
            "Epoch 39/100\n",
            "79/79 [==============================] - 1s 13ms/step - loss: 0.1551 - accuracy: 0.9507 - val_loss: 4.4719 - val_accuracy: 0.4041\n",
            "Epoch 40/100\n",
            "79/79 [==============================] - 1s 13ms/step - loss: 0.3565 - accuracy: 0.8932 - val_loss: 4.5875 - val_accuracy: 0.3923\n",
            "Epoch 41/100\n",
            "79/79 [==============================] - 1s 16ms/step - loss: 0.2228 - accuracy: 0.9292 - val_loss: 4.5041 - val_accuracy: 0.4060\n",
            "Epoch 42/100\n",
            "79/79 [==============================] - 1s 19ms/step - loss: 0.1064 - accuracy: 0.9689 - val_loss: 4.5648 - val_accuracy: 0.4155\n",
            "Epoch 43/100\n",
            "79/79 [==============================] - 2s 20ms/step - loss: 0.0554 - accuracy: 0.9858 - val_loss: 4.5103 - val_accuracy: 0.4099\n",
            "Epoch 44/100\n",
            "79/79 [==============================] - 2s 20ms/step - loss: 0.1135 - accuracy: 0.9667 - val_loss: 4.7254 - val_accuracy: 0.4020\n",
            "Epoch 45/100\n",
            "79/79 [==============================] - 1s 13ms/step - loss: 0.0417 - accuracy: 0.9880 - val_loss: 4.6133 - val_accuracy: 0.4155\n",
            "Epoch 46/100\n",
            "79/79 [==============================] - 1s 13ms/step - loss: 0.0159 - accuracy: 0.9975 - val_loss: 4.5816 - val_accuracy: 0.4162\n",
            "Epoch 47/100\n",
            "79/79 [==============================] - 1s 13ms/step - loss: 0.0126 - accuracy: 0.9983 - val_loss: 4.6755 - val_accuracy: 0.4182\n",
            "Epoch 48/100\n",
            "79/79 [==============================] - 1s 13ms/step - loss: 0.0099 - accuracy: 0.9988 - val_loss: 4.6463 - val_accuracy: 0.4195\n",
            "Epoch 49/100\n",
            "79/79 [==============================] - 1s 13ms/step - loss: 0.0049 - accuracy: 0.9997 - val_loss: 4.6661 - val_accuracy: 0.4228\n",
            "Epoch 50/100\n",
            "79/79 [==============================] - 2s 20ms/step - loss: 0.0032 - accuracy: 1.0000 - val_loss: 4.6862 - val_accuracy: 0.4235\n",
            "Epoch 51/100\n",
            "79/79 [==============================] - 2s 21ms/step - loss: 0.0027 - accuracy: 1.0000 - val_loss: 4.7167 - val_accuracy: 0.4234\n",
            "Epoch 52/100\n",
            "79/79 [==============================] - 1s 15ms/step - loss: 0.0025 - accuracy: 1.0000 - val_loss: 4.7383 - val_accuracy: 0.4247\n",
            "Epoch 53/100\n",
            "79/79 [==============================] - 2s 20ms/step - loss: 0.0023 - accuracy: 1.0000 - val_loss: 4.7602 - val_accuracy: 0.4245\n",
            "Epoch 54/100\n",
            "79/79 [==============================] - 1s 13ms/step - loss: 0.0021 - accuracy: 1.0000 - val_loss: 4.7763 - val_accuracy: 0.4237\n",
            "Epoch 55/100\n",
            "79/79 [==============================] - 2s 20ms/step - loss: 0.0020 - accuracy: 1.0000 - val_loss: 4.7903 - val_accuracy: 0.4246\n",
            "Epoch 56/100\n",
            "79/79 [==============================] - 2s 20ms/step - loss: 0.0018 - accuracy: 1.0000 - val_loss: 4.8098 - val_accuracy: 0.4240\n",
            "Epoch 57/100\n",
            "79/79 [==============================] - 2s 20ms/step - loss: 0.0018 - accuracy: 1.0000 - val_loss: 4.8280 - val_accuracy: 0.4242\n",
            "Epoch 58/100\n",
            "79/79 [==============================] - 2s 20ms/step - loss: 0.0017 - accuracy: 1.0000 - val_loss: 4.8443 - val_accuracy: 0.4240\n",
            "Epoch 59/100\n",
            "79/79 [==============================] - 2s 20ms/step - loss: 0.0016 - accuracy: 1.0000 - val_loss: 4.8595 - val_accuracy: 0.4246\n",
            "Epoch 60/100\n",
            "79/79 [==============================] - 1s 17ms/step - loss: 0.0015 - accuracy: 1.0000 - val_loss: 4.8735 - val_accuracy: 0.4242\n",
            "Epoch 61/100\n",
            "79/79 [==============================] - 1s 14ms/step - loss: 0.0014 - accuracy: 1.0000 - val_loss: 4.8898 - val_accuracy: 0.4238\n",
            "Epoch 62/100\n",
            "79/79 [==============================] - 1s 13ms/step - loss: 0.0014 - accuracy: 1.0000 - val_loss: 4.9120 - val_accuracy: 0.4243\n",
            "Epoch 63/100\n",
            "79/79 [==============================] - 2s 20ms/step - loss: 0.0013 - accuracy: 1.0000 - val_loss: 4.9218 - val_accuracy: 0.4241\n",
            "Epoch 64/100\n",
            "79/79 [==============================] - 2s 20ms/step - loss: 0.0012 - accuracy: 1.0000 - val_loss: 4.9377 - val_accuracy: 0.4239\n",
            "Epoch 65/100\n",
            "79/79 [==============================] - 1s 13ms/step - loss: 0.0012 - accuracy: 1.0000 - val_loss: 4.9515 - val_accuracy: 0.4246\n",
            "Epoch 66/100\n",
            "79/79 [==============================] - 1s 13ms/step - loss: 0.0011 - accuracy: 1.0000 - val_loss: 4.9664 - val_accuracy: 0.4245\n",
            "Epoch 67/100\n",
            "79/79 [==============================] - 1s 13ms/step - loss: 0.0011 - accuracy: 1.0000 - val_loss: 4.9807 - val_accuracy: 0.4243\n",
            "Epoch 68/100\n",
            "79/79 [==============================] - 2s 20ms/step - loss: 0.0010 - accuracy: 1.0000 - val_loss: 4.9954 - val_accuracy: 0.4241\n",
            "Epoch 69/100\n",
            "79/79 [==============================] - 1s 18ms/step - loss: 9.9913e-04 - accuracy: 1.0000 - val_loss: 5.0111 - val_accuracy: 0.4243\n",
            "Epoch 70/100\n",
            "79/79 [==============================] - 1s 15ms/step - loss: 9.6530e-04 - accuracy: 1.0000 - val_loss: 5.0304 - val_accuracy: 0.4247\n",
            "Epoch 71/100\n",
            "79/79 [==============================] - 2s 20ms/step - loss: 9.2356e-04 - accuracy: 1.0000 - val_loss: 5.0440 - val_accuracy: 0.4244\n",
            "Epoch 72/100\n",
            "79/79 [==============================] - 2s 20ms/step - loss: 8.8410e-04 - accuracy: 1.0000 - val_loss: 5.0564 - val_accuracy: 0.4242\n",
            "Epoch 73/100\n",
            "79/79 [==============================] - 1s 13ms/step - loss: 8.5629e-04 - accuracy: 1.0000 - val_loss: 5.0731 - val_accuracy: 0.4241\n",
            "Epoch 74/100\n",
            "79/79 [==============================] - 1s 13ms/step - loss: 8.3277e-04 - accuracy: 1.0000 - val_loss: 5.0904 - val_accuracy: 0.4247\n",
            "Epoch 75/100\n",
            "79/79 [==============================] - 2s 20ms/step - loss: 7.9181e-04 - accuracy: 1.0000 - val_loss: 5.1058 - val_accuracy: 0.4248\n",
            "Epoch 76/100\n",
            "79/79 [==============================] - 1s 13ms/step - loss: 7.5705e-04 - accuracy: 1.0000 - val_loss: 5.1210 - val_accuracy: 0.4250\n",
            "Epoch 77/100\n",
            "79/79 [==============================] - 2s 20ms/step - loss: 7.3374e-04 - accuracy: 1.0000 - val_loss: 5.1329 - val_accuracy: 0.4241\n",
            "Epoch 78/100\n",
            "79/79 [==============================] - 1s 18ms/step - loss: 7.0385e-04 - accuracy: 1.0000 - val_loss: 5.1508 - val_accuracy: 0.4248\n",
            "Epoch 79/100\n",
            "79/79 [==============================] - 1s 16ms/step - loss: 6.8241e-04 - accuracy: 1.0000 - val_loss: 5.1658 - val_accuracy: 0.4246\n",
            "Epoch 80/100\n",
            "79/79 [==============================] - 2s 20ms/step - loss: 6.4746e-04 - accuracy: 1.0000 - val_loss: 5.1800 - val_accuracy: 0.4246\n",
            "Epoch 81/100\n",
            "79/79 [==============================] - 1s 13ms/step - loss: 6.2520e-04 - accuracy: 1.0000 - val_loss: 5.1955 - val_accuracy: 0.4240\n",
            "Epoch 82/100\n",
            "79/79 [==============================] - 1s 13ms/step - loss: 6.0026e-04 - accuracy: 1.0000 - val_loss: 5.2086 - val_accuracy: 0.4252\n",
            "Epoch 83/100\n",
            "79/79 [==============================] - 1s 13ms/step - loss: 5.7766e-04 - accuracy: 1.0000 - val_loss: 5.2278 - val_accuracy: 0.4246\n",
            "Epoch 84/100\n",
            "79/79 [==============================] - 2s 20ms/step - loss: 5.5641e-04 - accuracy: 1.0000 - val_loss: 5.2419 - val_accuracy: 0.4247\n",
            "Epoch 85/100\n",
            "79/79 [==============================] - 2s 20ms/step - loss: 5.3391e-04 - accuracy: 1.0000 - val_loss: 5.2561 - val_accuracy: 0.4248\n",
            "Epoch 86/100\n",
            "79/79 [==============================] - 2s 20ms/step - loss: 5.1649e-04 - accuracy: 1.0000 - val_loss: 5.2716 - val_accuracy: 0.4247\n",
            "Epoch 87/100\n",
            "79/79 [==============================] - 2s 20ms/step - loss: 5.0837e-04 - accuracy: 1.0000 - val_loss: 5.2869 - val_accuracy: 0.4255\n",
            "Epoch 88/100\n",
            "79/79 [==============================] - 1s 16ms/step - loss: 4.7643e-04 - accuracy: 1.0000 - val_loss: 5.3040 - val_accuracy: 0.4247\n",
            "Epoch 89/100\n",
            "79/79 [==============================] - 2s 20ms/step - loss: 4.5762e-04 - accuracy: 1.0000 - val_loss: 5.3175 - val_accuracy: 0.4249\n",
            "Epoch 90/100\n",
            "79/79 [==============================] - 1s 13ms/step - loss: 4.4432e-04 - accuracy: 1.0000 - val_loss: 5.3366 - val_accuracy: 0.4249\n",
            "Epoch 91/100\n",
            "79/79 [==============================] - 2s 20ms/step - loss: 4.2582e-04 - accuracy: 1.0000 - val_loss: 5.3506 - val_accuracy: 0.4252\n",
            "Epoch 92/100\n",
            "79/79 [==============================] - 2s 20ms/step - loss: 4.1212e-04 - accuracy: 1.0000 - val_loss: 5.3679 - val_accuracy: 0.4256\n",
            "Epoch 93/100\n",
            "79/79 [==============================] - 2s 20ms/step - loss: 3.9841e-04 - accuracy: 1.0000 - val_loss: 5.3865 - val_accuracy: 0.4250\n",
            "Epoch 94/100\n",
            "79/79 [==============================] - 1s 13ms/step - loss: 3.8164e-04 - accuracy: 1.0000 - val_loss: 5.4025 - val_accuracy: 0.4252\n",
            "Epoch 95/100\n",
            "79/79 [==============================] - 1s 13ms/step - loss: 3.6528e-04 - accuracy: 1.0000 - val_loss: 5.4132 - val_accuracy: 0.4247\n",
            "Epoch 96/100\n",
            "79/79 [==============================] - 2s 21ms/step - loss: 3.5269e-04 - accuracy: 1.0000 - val_loss: 5.4325 - val_accuracy: 0.4247\n",
            "Epoch 97/100\n",
            "79/79 [==============================] - 1s 15ms/step - loss: 3.4060e-04 - accuracy: 1.0000 - val_loss: 5.4483 - val_accuracy: 0.4252\n",
            "Epoch 98/100\n",
            "79/79 [==============================] - 1s 13ms/step - loss: 3.3219e-04 - accuracy: 1.0000 - val_loss: 5.4630 - val_accuracy: 0.4252\n",
            "Epoch 99/100\n",
            "79/79 [==============================] - 1s 13ms/step - loss: 3.1488e-04 - accuracy: 1.0000 - val_loss: 5.4802 - val_accuracy: 0.4253\n",
            "Epoch 100/100\n",
            "79/79 [==============================] - 1s 13ms/step - loss: 3.0329e-04 - accuracy: 1.0000 - val_loss: 5.4988 - val_accuracy: 0.4254\n"
          ]
        }
      ]
    },
    {
      "cell_type": "markdown",
      "source": [
        "# 2.3. Exercise\n",
        "Based on the modifications above, and by any further modifications (e.g. more layers, less layers, more neurons/layer, etc.) to the model design, find a combination that is able to achieve **validation accuracy, that is higher than 53%**.\n"
      ],
      "metadata": {
        "id": "j1tGVPdD-pp3"
      }
    },
    {
      "cell_type": "code",
      "source": [
        "model.compile(loss='categorical_crossentropy', optimizer='adam', metrics=['accuracy'])"
      ],
      "metadata": {
        "id": "5dBQxJHIHrbd"
      },
      "execution_count": 28,
      "outputs": []
    },
    {
      "cell_type": "code",
      "source": [
        "from keras.layers import Conv2D, MaxPooling2D, BatchNormalization\n",
        "# Define the model\n",
        "model = Sequential()\n",
        "# new stuff\n",
        "X_train = X_train.reshape(-1, 32, 32, 3)\n",
        "X_valid = X_valid.reshape(-1, 32, 32, 3)\n",
        "\n",
        "# Add the first convolutional layer\n",
        "model.add(Conv2D(32, kernel_size=(3,3), activation='relu', input_shape=(32, 32, 3)))\n",
        "model.add(BatchNormalization())\n",
        "model.add(MaxPooling2D(pool_size=(2,2)))\n",
        "\n",
        "# Add the second convolutional layer\n",
        "model.add(Conv2D(64, kernel_size=(3,3), activation='relu'))\n",
        "model.add(BatchNormalization())\n",
        "model.add(MaxPooling2D(pool_size=(2,2)))\n",
        "\n",
        "# Flatten the output of the convolutional layers\n",
        "model.add(Flatten())\n",
        "\n",
        "# Add a dense layer with 128 neurons\n",
        "model.add(Dense(128, activation='relu'))\n",
        "model.add(Dropout(0.5))\n",
        "\n",
        "# Add the output layer\n",
        "model.add(Dense(nb_classes, activation='softmax'))\n",
        "\n",
        "# Compile the model\n",
        "model.compile(loss='categorical_crossentropy', optimizer='adam', metrics=['accuracy'])\n"
      ],
      "metadata": {
        "id": "PuxHOqLt-3Nd"
      },
      "execution_count": 29,
      "outputs": []
    },
    {
      "cell_type": "code",
      "source": [
        "# training\n",
        "network_history = model.fit(X_train, Y_train, \n",
        "                            validation_data=(X_valid,Y_valid),\n",
        "                            batch_size=128,                             \n",
        "                            epochs=100, \n",
        "                            verbose=1, \n",
        "                            )\n",
        "\n",
        "\n"
      ],
      "metadata": {
        "id": "u8tFNCNVHyt9",
        "colab": {
          "base_uri": "https://localhost:8080/"
        },
        "outputId": "ba2429bb-33a3-4119-fb11-297a9adae0a9"
      },
      "execution_count": 30,
      "outputs": [
        {
          "output_type": "stream",
          "name": "stdout",
          "text": [
            "Epoch 1/100\n",
            "79/79 [==============================] - 10s 39ms/step - loss: 2.0499 - accuracy: 0.3027 - val_loss: 1.8307 - val_accuracy: 0.3704\n",
            "Epoch 2/100\n",
            "79/79 [==============================] - 2s 23ms/step - loss: 1.6382 - accuracy: 0.4139 - val_loss: 1.7636 - val_accuracy: 0.3868\n",
            "Epoch 3/100\n",
            "79/79 [==============================] - 1s 19ms/step - loss: 1.4551 - accuracy: 0.4820 - val_loss: 1.5727 - val_accuracy: 0.4582\n",
            "Epoch 4/100\n",
            "79/79 [==============================] - 2s 23ms/step - loss: 1.3529 - accuracy: 0.5122 - val_loss: 1.4494 - val_accuracy: 0.5043\n",
            "Epoch 5/100\n",
            "79/79 [==============================] - 2s 19ms/step - loss: 1.2244 - accuracy: 0.5563 - val_loss: 1.2938 - val_accuracy: 0.5485\n",
            "Epoch 6/100\n",
            "79/79 [==============================] - 3s 39ms/step - loss: 1.1384 - accuracy: 0.5915 - val_loss: 1.3141 - val_accuracy: 0.5502\n",
            "Epoch 7/100\n",
            "79/79 [==============================] - 2s 23ms/step - loss: 1.0672 - accuracy: 0.6133 - val_loss: 1.1717 - val_accuracy: 0.5898\n",
            "Epoch 8/100\n",
            "79/79 [==============================] - 2s 19ms/step - loss: 0.9704 - accuracy: 0.6475 - val_loss: 1.1627 - val_accuracy: 0.5952\n",
            "Epoch 9/100\n",
            "79/79 [==============================] - 2s 20ms/step - loss: 0.8947 - accuracy: 0.6749 - val_loss: 1.1645 - val_accuracy: 0.6040\n",
            "Epoch 10/100\n",
            "79/79 [==============================] - 2s 19ms/step - loss: 0.8230 - accuracy: 0.7005 - val_loss: 1.1656 - val_accuracy: 0.6135\n",
            "Epoch 11/100\n",
            "79/79 [==============================] - 2s 23ms/step - loss: 0.7510 - accuracy: 0.7232 - val_loss: 1.1838 - val_accuracy: 0.6077\n",
            "Epoch 12/100\n",
            "79/79 [==============================] - 1s 19ms/step - loss: 0.6965 - accuracy: 0.7470 - val_loss: 1.1857 - val_accuracy: 0.6166\n",
            "Epoch 13/100\n",
            "79/79 [==============================] - 2s 20ms/step - loss: 0.6314 - accuracy: 0.7707 - val_loss: 1.2625 - val_accuracy: 0.6107\n",
            "Epoch 14/100\n",
            "79/79 [==============================] - 2s 24ms/step - loss: 0.6234 - accuracy: 0.7710 - val_loss: 1.1926 - val_accuracy: 0.6250\n",
            "Epoch 15/100\n",
            "79/79 [==============================] - 2s 20ms/step - loss: 0.5470 - accuracy: 0.8021 - val_loss: 1.2130 - val_accuracy: 0.6297\n",
            "Epoch 16/100\n",
            "79/79 [==============================] - 2s 19ms/step - loss: 0.4933 - accuracy: 0.8169 - val_loss: 1.2955 - val_accuracy: 0.6266\n",
            "Epoch 17/100\n",
            "79/79 [==============================] - 2s 23ms/step - loss: 0.4732 - accuracy: 0.8258 - val_loss: 1.2927 - val_accuracy: 0.6212\n",
            "Epoch 18/100\n",
            "79/79 [==============================] - 2s 20ms/step - loss: 0.4452 - accuracy: 0.8366 - val_loss: 1.3363 - val_accuracy: 0.6221\n",
            "Epoch 19/100\n",
            "79/79 [==============================] - 2s 23ms/step - loss: 0.4116 - accuracy: 0.8481 - val_loss: 1.3398 - val_accuracy: 0.6235\n",
            "Epoch 20/100\n",
            "79/79 [==============================] - 2s 20ms/step - loss: 0.3748 - accuracy: 0.8633 - val_loss: 1.3734 - val_accuracy: 0.6308\n",
            "Epoch 21/100\n",
            "79/79 [==============================] - 2s 23ms/step - loss: 0.3522 - accuracy: 0.8704 - val_loss: 1.3248 - val_accuracy: 0.6284\n",
            "Epoch 22/100\n",
            "79/79 [==============================] - 2s 21ms/step - loss: 0.3162 - accuracy: 0.8856 - val_loss: 1.4125 - val_accuracy: 0.6305\n",
            "Epoch 23/100\n",
            "79/79 [==============================] - 2s 19ms/step - loss: 0.3197 - accuracy: 0.8848 - val_loss: 1.4215 - val_accuracy: 0.6231\n",
            "Epoch 24/100\n",
            "79/79 [==============================] - 2s 23ms/step - loss: 0.3129 - accuracy: 0.8862 - val_loss: 1.5301 - val_accuracy: 0.6231\n",
            "Epoch 25/100\n",
            "79/79 [==============================] - 2s 23ms/step - loss: 0.2965 - accuracy: 0.8923 - val_loss: 1.4725 - val_accuracy: 0.6344\n",
            "Epoch 26/100\n",
            "79/79 [==============================] - 2s 23ms/step - loss: 0.2753 - accuracy: 0.8970 - val_loss: 1.5788 - val_accuracy: 0.6327\n",
            "Epoch 27/100\n",
            "79/79 [==============================] - 2s 23ms/step - loss: 0.2704 - accuracy: 0.9016 - val_loss: 1.4688 - val_accuracy: 0.6277\n",
            "Epoch 28/100\n",
            "79/79 [==============================] - 2s 24ms/step - loss: 0.2494 - accuracy: 0.9081 - val_loss: 1.6228 - val_accuracy: 0.6234\n",
            "Epoch 29/100\n",
            "79/79 [==============================] - 2s 21ms/step - loss: 0.2434 - accuracy: 0.9092 - val_loss: 1.5149 - val_accuracy: 0.6302\n",
            "Epoch 30/100\n",
            "79/79 [==============================] - 2s 23ms/step - loss: 0.2430 - accuracy: 0.9127 - val_loss: 1.6413 - val_accuracy: 0.6284\n",
            "Epoch 31/100\n",
            "79/79 [==============================] - 2s 23ms/step - loss: 0.2180 - accuracy: 0.9205 - val_loss: 1.6289 - val_accuracy: 0.6324\n",
            "Epoch 32/100\n",
            "79/79 [==============================] - 2s 23ms/step - loss: 0.2155 - accuracy: 0.9190 - val_loss: 1.6690 - val_accuracy: 0.6270\n",
            "Epoch 33/100\n",
            "79/79 [==============================] - 2s 19ms/step - loss: 0.2040 - accuracy: 0.9254 - val_loss: 1.7416 - val_accuracy: 0.6248\n",
            "Epoch 34/100\n",
            "79/79 [==============================] - 2s 23ms/step - loss: 0.2095 - accuracy: 0.9264 - val_loss: 1.6417 - val_accuracy: 0.6324\n",
            "Epoch 35/100\n",
            "79/79 [==============================] - 2s 23ms/step - loss: 0.2210 - accuracy: 0.9203 - val_loss: 1.7707 - val_accuracy: 0.6302\n",
            "Epoch 36/100\n",
            "79/79 [==============================] - 2s 25ms/step - loss: 0.2036 - accuracy: 0.9271 - val_loss: 1.6829 - val_accuracy: 0.6323\n",
            "Epoch 37/100\n",
            "79/79 [==============================] - 2s 23ms/step - loss: 0.2043 - accuracy: 0.9268 - val_loss: 1.7696 - val_accuracy: 0.6334\n",
            "Epoch 38/100\n",
            "79/79 [==============================] - 2s 23ms/step - loss: 0.1797 - accuracy: 0.9346 - val_loss: 1.8837 - val_accuracy: 0.6230\n",
            "Epoch 39/100\n",
            "79/79 [==============================] - 1s 19ms/step - loss: 0.2125 - accuracy: 0.9264 - val_loss: 1.8016 - val_accuracy: 0.6290\n",
            "Epoch 40/100\n",
            "79/79 [==============================] - 2s 19ms/step - loss: 0.1928 - accuracy: 0.9300 - val_loss: 1.7789 - val_accuracy: 0.6337\n",
            "Epoch 41/100\n",
            "79/79 [==============================] - 2s 19ms/step - loss: 0.1811 - accuracy: 0.9314 - val_loss: 1.8159 - val_accuracy: 0.6292\n",
            "Epoch 42/100\n",
            "79/79 [==============================] - 2s 21ms/step - loss: 0.1580 - accuracy: 0.9415 - val_loss: 1.7580 - val_accuracy: 0.6327\n",
            "Epoch 43/100\n",
            "79/79 [==============================] - 2s 22ms/step - loss: 0.1756 - accuracy: 0.9360 - val_loss: 1.9015 - val_accuracy: 0.6279\n",
            "Epoch 44/100\n",
            "79/79 [==============================] - 2s 23ms/step - loss: 0.1686 - accuracy: 0.9387 - val_loss: 1.9303 - val_accuracy: 0.6259\n",
            "Epoch 45/100\n",
            "79/79 [==============================] - 1s 19ms/step - loss: 0.1825 - accuracy: 0.9345 - val_loss: 1.9625 - val_accuracy: 0.6249\n",
            "Epoch 46/100\n",
            "79/79 [==============================] - 2s 19ms/step - loss: 0.1609 - accuracy: 0.9400 - val_loss: 1.9002 - val_accuracy: 0.6293\n",
            "Epoch 47/100\n",
            "79/79 [==============================] - 2s 23ms/step - loss: 0.1527 - accuracy: 0.9448 - val_loss: 1.9487 - val_accuracy: 0.6272\n",
            "Epoch 48/100\n",
            "79/79 [==============================] - 2s 23ms/step - loss: 0.1520 - accuracy: 0.9450 - val_loss: 1.9586 - val_accuracy: 0.6314\n",
            "Epoch 49/100\n",
            "79/79 [==============================] - 2s 23ms/step - loss: 0.1383 - accuracy: 0.9501 - val_loss: 2.0330 - val_accuracy: 0.6281\n",
            "Epoch 50/100\n",
            "79/79 [==============================] - 2s 25ms/step - loss: 0.1961 - accuracy: 0.9287 - val_loss: 2.0353 - val_accuracy: 0.6237\n",
            "Epoch 51/100\n",
            "79/79 [==============================] - 2s 23ms/step - loss: 0.1738 - accuracy: 0.9346 - val_loss: 2.1161 - val_accuracy: 0.6280\n",
            "Epoch 52/100\n",
            "79/79 [==============================] - 1s 19ms/step - loss: 0.1686 - accuracy: 0.9416 - val_loss: 2.0942 - val_accuracy: 0.6255\n",
            "Epoch 53/100\n",
            "79/79 [==============================] - 2s 19ms/step - loss: 0.1490 - accuracy: 0.9457 - val_loss: 2.1415 - val_accuracy: 0.6276\n",
            "Epoch 54/100\n",
            "79/79 [==============================] - 2s 19ms/step - loss: 0.1524 - accuracy: 0.9449 - val_loss: 2.1568 - val_accuracy: 0.6271\n",
            "Epoch 55/100\n",
            "79/79 [==============================] - 2s 23ms/step - loss: 0.1343 - accuracy: 0.9516 - val_loss: 2.1585 - val_accuracy: 0.6295\n",
            "Epoch 56/100\n",
            "79/79 [==============================] - 2s 20ms/step - loss: 0.1433 - accuracy: 0.9480 - val_loss: 2.0637 - val_accuracy: 0.6292\n",
            "Epoch 57/100\n",
            "79/79 [==============================] - 2s 24ms/step - loss: 0.1422 - accuracy: 0.9481 - val_loss: 2.1945 - val_accuracy: 0.6283\n",
            "Epoch 58/100\n",
            "79/79 [==============================] - 2s 19ms/step - loss: 0.1514 - accuracy: 0.9453 - val_loss: 2.2255 - val_accuracy: 0.6283\n",
            "Epoch 59/100\n",
            "79/79 [==============================] - 1s 19ms/step - loss: 0.1507 - accuracy: 0.9471 - val_loss: 2.1698 - val_accuracy: 0.6237\n",
            "Epoch 60/100\n",
            "79/79 [==============================] - 1s 19ms/step - loss: 0.1391 - accuracy: 0.9502 - val_loss: 2.4187 - val_accuracy: 0.6222\n",
            "Epoch 61/100\n",
            "79/79 [==============================] - 2s 23ms/step - loss: 0.1857 - accuracy: 0.9369 - val_loss: 2.1765 - val_accuracy: 0.6131\n",
            "Epoch 62/100\n",
            "79/79 [==============================] - 2s 19ms/step - loss: 0.1531 - accuracy: 0.9437 - val_loss: 2.1818 - val_accuracy: 0.6256\n",
            "Epoch 63/100\n",
            "79/79 [==============================] - 1s 19ms/step - loss: 0.1630 - accuracy: 0.9438 - val_loss: 2.2201 - val_accuracy: 0.6288\n",
            "Epoch 64/100\n",
            "79/79 [==============================] - 2s 22ms/step - loss: 0.1323 - accuracy: 0.9522 - val_loss: 2.3250 - val_accuracy: 0.6213\n",
            "Epoch 65/100\n",
            "79/79 [==============================] - 2s 24ms/step - loss: 0.1291 - accuracy: 0.9533 - val_loss: 2.3967 - val_accuracy: 0.6276\n",
            "Epoch 66/100\n",
            "79/79 [==============================] - 2s 23ms/step - loss: 0.1301 - accuracy: 0.9528 - val_loss: 2.4288 - val_accuracy: 0.6209\n",
            "Epoch 67/100\n",
            "79/79 [==============================] - 2s 19ms/step - loss: 0.1276 - accuracy: 0.9551 - val_loss: 2.2840 - val_accuracy: 0.6320\n",
            "Epoch 68/100\n",
            "79/79 [==============================] - 1s 19ms/step - loss: 0.1113 - accuracy: 0.9595 - val_loss: 2.2888 - val_accuracy: 0.6210\n",
            "Epoch 69/100\n",
            "79/79 [==============================] - 2s 19ms/step - loss: 0.1174 - accuracy: 0.9573 - val_loss: 2.4190 - val_accuracy: 0.6308\n",
            "Epoch 70/100\n",
            "79/79 [==============================] - 1s 19ms/step - loss: 0.1288 - accuracy: 0.9546 - val_loss: 2.2818 - val_accuracy: 0.6278\n",
            "Epoch 71/100\n",
            "79/79 [==============================] - 2s 23ms/step - loss: 0.1206 - accuracy: 0.9540 - val_loss: 2.2817 - val_accuracy: 0.6281\n",
            "Epoch 72/100\n",
            "79/79 [==============================] - 2s 24ms/step - loss: 0.1419 - accuracy: 0.9469 - val_loss: 2.2963 - val_accuracy: 0.6222\n",
            "Epoch 73/100\n",
            "79/79 [==============================] - 2s 19ms/step - loss: 0.1403 - accuracy: 0.9484 - val_loss: 2.5006 - val_accuracy: 0.6205\n",
            "Epoch 74/100\n",
            "79/79 [==============================] - 2s 20ms/step - loss: 0.1231 - accuracy: 0.9545 - val_loss: 2.3228 - val_accuracy: 0.6313\n",
            "Epoch 75/100\n",
            "79/79 [==============================] - 2s 19ms/step - loss: 0.1293 - accuracy: 0.9517 - val_loss: 2.4429 - val_accuracy: 0.6298\n",
            "Epoch 76/100\n",
            "79/79 [==============================] - 1s 19ms/step - loss: 0.1046 - accuracy: 0.9636 - val_loss: 2.7336 - val_accuracy: 0.6206\n",
            "Epoch 77/100\n",
            "79/79 [==============================] - 2s 20ms/step - loss: 0.1395 - accuracy: 0.9534 - val_loss: 2.3302 - val_accuracy: 0.6288\n",
            "Epoch 78/100\n",
            "79/79 [==============================] - 2s 19ms/step - loss: 0.1098 - accuracy: 0.9611 - val_loss: 2.3930 - val_accuracy: 0.6358\n",
            "Epoch 79/100\n",
            "79/79 [==============================] - 2s 23ms/step - loss: 0.1013 - accuracy: 0.9632 - val_loss: 2.5581 - val_accuracy: 0.6267\n",
            "Epoch 80/100\n",
            "79/79 [==============================] - 2s 24ms/step - loss: 0.0996 - accuracy: 0.9635 - val_loss: 2.5107 - val_accuracy: 0.6311\n",
            "Epoch 81/100\n",
            "79/79 [==============================] - 2s 20ms/step - loss: 0.1145 - accuracy: 0.9592 - val_loss: 2.4484 - val_accuracy: 0.6253\n",
            "Epoch 82/100\n",
            "79/79 [==============================] - 1s 19ms/step - loss: 0.0905 - accuracy: 0.9658 - val_loss: 2.7421 - val_accuracy: 0.6336\n",
            "Epoch 83/100\n",
            "79/79 [==============================] - 2s 20ms/step - loss: 0.1076 - accuracy: 0.9608 - val_loss: 2.6175 - val_accuracy: 0.6239\n",
            "Epoch 84/100\n",
            "79/79 [==============================] - 2s 23ms/step - loss: 0.1159 - accuracy: 0.9587 - val_loss: 2.5522 - val_accuracy: 0.6237\n",
            "Epoch 85/100\n",
            "79/79 [==============================] - 2s 19ms/step - loss: 0.1080 - accuracy: 0.9606 - val_loss: 2.3713 - val_accuracy: 0.6269\n",
            "Epoch 86/100\n",
            "79/79 [==============================] - 2s 23ms/step - loss: 0.1104 - accuracy: 0.9603 - val_loss: 2.4258 - val_accuracy: 0.6267\n",
            "Epoch 87/100\n",
            "79/79 [==============================] - 2s 23ms/step - loss: 0.0965 - accuracy: 0.9659 - val_loss: 2.6592 - val_accuracy: 0.6263\n",
            "Epoch 88/100\n",
            "79/79 [==============================] - 2s 23ms/step - loss: 0.1017 - accuracy: 0.9651 - val_loss: 2.6082 - val_accuracy: 0.6277\n",
            "Epoch 89/100\n",
            "79/79 [==============================] - 2s 23ms/step - loss: 0.1016 - accuracy: 0.9621 - val_loss: 2.6072 - val_accuracy: 0.6236\n",
            "Epoch 90/100\n",
            "79/79 [==============================] - 2s 20ms/step - loss: 0.1125 - accuracy: 0.9593 - val_loss: 2.7898 - val_accuracy: 0.6180\n",
            "Epoch 91/100\n",
            "79/79 [==============================] - 2s 20ms/step - loss: 0.1307 - accuracy: 0.9544 - val_loss: 2.5641 - val_accuracy: 0.6249\n",
            "Epoch 92/100\n",
            "79/79 [==============================] - 2s 23ms/step - loss: 0.0890 - accuracy: 0.9672 - val_loss: 2.5590 - val_accuracy: 0.6311\n",
            "Epoch 93/100\n",
            "79/79 [==============================] - 2s 21ms/step - loss: 0.1005 - accuracy: 0.9639 - val_loss: 2.4469 - val_accuracy: 0.6252\n",
            "Epoch 94/100\n",
            "79/79 [==============================] - 2s 24ms/step - loss: 0.0933 - accuracy: 0.9658 - val_loss: 2.6091 - val_accuracy: 0.6257\n",
            "Epoch 95/100\n",
            "79/79 [==============================] - 2s 23ms/step - loss: 0.0950 - accuracy: 0.9636 - val_loss: 2.8004 - val_accuracy: 0.6216\n",
            "Epoch 96/100\n",
            "79/79 [==============================] - 2s 23ms/step - loss: 0.0953 - accuracy: 0.9640 - val_loss: 2.4374 - val_accuracy: 0.6284\n",
            "Epoch 97/100\n",
            "79/79 [==============================] - 2s 19ms/step - loss: 0.0896 - accuracy: 0.9684 - val_loss: 2.7126 - val_accuracy: 0.6298\n",
            "Epoch 98/100\n",
            "79/79 [==============================] - 2s 23ms/step - loss: 0.0828 - accuracy: 0.9714 - val_loss: 2.8437 - val_accuracy: 0.6251\n",
            "Epoch 99/100\n",
            "79/79 [==============================] - 2s 19ms/step - loss: 0.0916 - accuracy: 0.9667 - val_loss: 2.7719 - val_accuracy: 0.6223\n",
            "Epoch 100/100\n",
            "79/79 [==============================] - 2s 21ms/step - loss: 0.0864 - accuracy: 0.9698 - val_loss: 2.9335 - val_accuracy: 0.6198\n"
          ]
        }
      ]
    },
    {
      "cell_type": "markdown",
      "source": [
        "# 3. Evaluation on test data and inference\n",
        "At this point, we will perform a basic evaluation and inference. With the model.evaluate function, the same metrics are calculated, that were used during training:"
      ],
      "metadata": {
        "id": "2FtKp-a2-A9m"
      }
    },
    {
      "cell_type": "code",
      "source": [
        "X_test = X_test.reshape(-1, 32, 32, 3)\n",
        "\n",
        "\n",
        "print(model.evaluate(X_test, Y_test))"
      ],
      "metadata": {
        "id": "I3_9wgDREUna",
        "colab": {
          "base_uri": "https://localhost:8080/"
        },
        "outputId": "3db30d72-c544-4632-b4c9-1604b541f661"
      },
      "execution_count": 31,
      "outputs": [
        {
          "output_type": "stream",
          "name": "stdout",
          "text": [
            "313/313 [==============================] - 1s 4ms/step - loss: 2.8180 - accuracy: 0.6296\n",
            "[2.8180019855499268, 0.6295999884605408]\n"
          ]
        }
      ]
    },
    {
      "cell_type": "markdown",
      "source": [
        "we would like to see similar values, as in the validation set. If those are close to each other, then the generalization ability of the model is good (in case of an independent test-set)."
      ],
      "metadata": {
        "id": "ECHguBFtGL7f"
      }
    },
    {
      "cell_type": "markdown",
      "source": [
        "## 3.1. Exercise\n",
        "Predict the class of the first 10 elements in the test set, and compare the predicted values with the actual, target values in the test set. Hints:\n",
        "* you can use [model.predict](https://www.activestate.com/resources/quick-reads/how-to-use-a-model-to-do-predictions-with-keras/) for prediction\n",
        "* from the output you can select the largest value with the [argmax() function of Numpy](https://stackoverflow.com/questions/62358642/convert-one-hot-encoding-back-to-number-label). As there are multiple values, you have to call it with axis=1 parameter.\n",
        "* it is enought to compare the predictions and the targets by printing the values out and inspecting them."
      ],
      "metadata": {
        "id": "0Io4zYJeHjz6"
      }
    },
    {
      "cell_type": "code",
      "source": [
        "preds = model.predict(X_test[:10])\n",
        "\n",
        "# convert the predictions to dense format\n",
        "preds_dense = np.argmax(preds, axis=1)"
      ],
      "metadata": {
        "id": "XEEyU7exILqF",
        "colab": {
          "base_uri": "https://localhost:8080/"
        },
        "outputId": "7df4bc3f-780c-4c7a-970a-5a9e2bd55b00"
      },
      "execution_count": 32,
      "outputs": [
        {
          "output_type": "stream",
          "name": "stdout",
          "text": [
            "1/1 [==============================] - 0s 156ms/step\n"
          ]
        }
      ]
    },
    {
      "cell_type": "markdown",
      "source": [
        "Before comparision, you have to convert back the one-hot encoded target values the same way, as you converted the output of the neural network to class values with argmax() function."
      ],
      "metadata": {
        "id": "seZTEFI-I5cZ"
      }
    },
    {
      "cell_type": "code",
      "source": [
        "print(\"Target labels:\", np.argmax(Y_test[:10],axis=1))\n",
        "print(\"Predicted labels:\", preds_dense)"
      ],
      "metadata": {
        "id": "PHLvoMuIIkJ6",
        "colab": {
          "base_uri": "https://localhost:8080/"
        },
        "outputId": "5d9b7ef7-be30-4ede-e2b5-47a69d044b97"
      },
      "execution_count": 33,
      "outputs": [
        {
          "output_type": "stream",
          "name": "stdout",
          "text": [
            "Target labels: [3 8 8 0 6 6 1 6 3 1]\n",
            "Predicted labels: [5 8 8 0 6 6 1 6 3 1]\n"
          ]
        }
      ]
    }
  ]
}